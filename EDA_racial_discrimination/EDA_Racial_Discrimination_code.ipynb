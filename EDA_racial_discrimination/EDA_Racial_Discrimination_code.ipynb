{
 "cells": [
  {
   "cell_type": "markdown",
   "metadata": {},
   "source": [
    "# Examining Racial Discrimination in the US Job Market\n",
    "\n",
    "### Background\n",
    "Racial discrimination continues to be pervasive in cultures throughout the world. Researchers examined the level of racial discrimination in the United States labor market by randomly assigning identical résumés to black-sounding or white-sounding names and observing the impact on requests for interviews from employers.\n",
    "\n",
    "### Data\n",
    "In the dataset provided, each row represents a resume. The 'race' column has two values, 'b' and 'w', indicating black-sounding and white-sounding. The column 'call' has two values, 1 and 0, indicating whether the resume received a call from employers or not.\n",
    "\n",
    "Note that the 'b' and 'w' values in race are assigned randomly to the resumes when presented to the employer."
   ]
  },
  {
   "cell_type": "markdown",
   "metadata": {},
   "source": [
    "### Exercises\n",
    "You will perform a statistical analysis to establish whether race has a significant impact on the rate of callbacks for resumes.\n",
    "\n",
    "Answer the following questions **in this notebook below and submit to your Github account**. \n",
    "\n",
    "   1. What test is appropriate for this problem? Does CLT apply?\n",
    "   2. What are the null and alternate hypotheses?\n",
    "   3. Compute margin of error, confidence interval, and p-value. Try using both the bootstrapping and the frequentist statistical approaches.\n",
    "   4. Write a story describing the statistical significance in the context or the original problem.\n",
    "   5. Does your analysis mean that race/name is the most important factor in callback success? Why or why not? If not, how would you amend your analysis?\n",
    "\n",
    "You can include written notes in notebook cells using Markdown: \n",
    "   - In the control panel at the top, choose Cell > Cell Type > Markdown\n",
    "   - Markdown syntax: http://nestacms.com/docs/creating-content/markdown-cheat-sheet\n",
    "\n",
    "#### Resources\n",
    "+ Experiment information and data source: http://www.povertyactionlab.org/evaluation/discrimination-job-market-united-states\n",
    "+ Scipy statistical methods: http://docs.scipy.org/doc/scipy/reference/stats.html \n",
    "+ Markdown syntax: http://nestacms.com/docs/creating-content/markdown-cheat-sheet\n",
    "+ Formulas for the Bernoulli distribution: https://en.wikipedia.org/wiki/Bernoulli_distribution"
   ]
  },
  {
   "cell_type": "code",
   "execution_count": 2,
   "metadata": {},
   "outputs": [],
   "source": [
    "import pandas as pd\n",
    "import numpy as np\n",
    "from scipy import stats"
   ]
  },
  {
   "cell_type": "code",
   "execution_count": 3,
   "metadata": {},
   "outputs": [],
   "source": [
    "data = pd.io.stata.read_stata('data/us_job_market_discrimination.dta')\n",
    "#np.mean(data[data.race=='w']['call'])\n"
   ]
  },
  {
   "cell_type": "code",
   "execution_count": 4,
   "metadata": {},
   "outputs": [
    {
     "data": {
      "text/plain": [
       "157.0"
      ]
     },
     "execution_count": 4,
     "metadata": {},
     "output_type": "execute_result"
    }
   ],
   "source": [
    "# number of callbacks for black-sounding names\n",
    "sum(data[data.race=='b']['call'])\n"
   ]
  },
  {
   "cell_type": "code",
   "execution_count": null,
   "metadata": {},
   "outputs": [],
   "source": [
    "\n"
   ]
  },
  {
   "cell_type": "markdown",
   "metadata": {
    "collapsed": true
   },
   "source": [
    "1. I believe a two sample bootstrapped test is the most appropriate. The test statistic will be the difference in the callback rates of whites and blacks. The central limit theorey applies here, however this is not essential to our analysis because the bootstrapped samples we perform analysis on will conform based on the number of samples.\n",
    "\n",
    "2. Coventional wisdom is that racial discrimination is a huge issue. This means we would assume the difference in call back rates between white and black sounding names would be different. With this in mind, the null hypothesis will be that racial discrimination in hiring is as or more serious than the data estimates. Meaning, if we reaject the null, we believe the data over estimates the discrimination. "
   ]
  },
  {
   "cell_type": "code",
   "execution_count": 8,
   "metadata": {},
   "outputs": [
    {
     "data": {
      "text/plain": [
       "array([0., 0., 0., ..., 0., 0., 0.], dtype=float32)"
      ]
     },
     "execution_count": 8,
     "metadata": {},
     "output_type": "execute_result"
    }
   ],
   "source": [
    "w = np.array(data[data.race=='w'].call)\n",
    "b = np.array(data[data.race=='b'].call)"
   ]
  },
  {
   "cell_type": "code",
   "execution_count": 50,
   "metadata": {},
   "outputs": [
    {
     "name": "stdout",
     "output_type": "stream",
     "text": [
      "('The CI according to bootstarapping is:', array([0.01805954, 0.04681725]), 'According to frequentist methods:', [0.01679017893346261, 0.047300991630831256], 'standard error is:', 0.015255406348684322, 'And the p_value is:', 0.51, 'meaning we will not reject the null')\n"
     ]
    }
   ],
   "source": [
    "#Define a method to draw bs replicates to analyze \n",
    "def draw_bs_reps(data, func, size=1):\n",
    "    bs_reps= np.empty(size)\n",
    "    for i in range(size):\n",
    "        bs_reps[i]= func(np.random.choice(data, size=len(data)))\n",
    "    return bs_reps\n",
    "#Use method to create an array of sampled differences to analyze\n",
    "diff= draw_bs_reps(w,np.mean, size=1000)-draw_bs_reps(b,np.mean, size=1000)\n",
    "ci= np.percentile(diff, (2.5,97.5))\n",
    "se=np.sqrt(((np.mean(w)*(1-np.mean(w))/len(w)))+((np.mean(b)*(1-np.mean(b))/len(b))))\n",
    "error= 1.96*se\n",
    "ci_f=[diff.mean()-error, diff.mean()+error]\n",
    "total_mean=np.mean(data.call)\n",
    "mean_diff=np.mean(w)-np.mean(b)\n",
    "p= np.sum(diff>=mean_diff)/float(len(diff))\n",
    "\n",
    "\n",
    "print('The CI according to bootstarapping is:',ci,'According to frequentist methods:', ci_f,'standard error is:', error, 'And the p_value is:', p, 'meaning we will not reject the null')\n"
   ]
  },
  {
   "cell_type": "markdown",
   "metadata": {},
   "source": [
    "4. The exploratory analysis shows that the null cannot be rejected. This means that discrimination is just as or more pervasive than the data showed. The mean difference recorded by our data was shown be less extreme than nearly half of the sampled means. Additionally, our confidence interval shows that we can expect differences of callbacks between 1-5% if the experiment were replicated.\n",
    "\n",
    "5. The analysis is not robust enough to make conclusions like that. Other factors such as age, education and working expirience would nead to be included. Also with the introduction of those different variables a different analysis would most likely be necessary. Possibly an OLS regression with Callback as the dependent varible, race as the main coefficient and other factors as controls."
   ]
  },
  {
   "cell_type": "code",
   "execution_count": null,
   "metadata": {},
   "outputs": [],
   "source": []
  },
  {
   "cell_type": "code",
   "execution_count": null,
   "metadata": {},
   "outputs": [],
   "source": []
  }
 ],
 "metadata": {
  "kernelspec": {
   "display_name": "Python 2",
   "language": "python",
   "name": "python2"
  },
  "language_info": {
   "codemirror_mode": {
    "name": "ipython",
    "version": 2
   },
   "file_extension": ".py",
   "mimetype": "text/x-python",
   "name": "python",
   "nbconvert_exporter": "python",
   "pygments_lexer": "ipython2",
   "version": "2.7.15"
  }
 },
 "nbformat": 4,
 "nbformat_minor": 1
}
